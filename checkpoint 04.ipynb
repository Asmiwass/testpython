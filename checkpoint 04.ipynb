{
 "cells": [
  {
   "cell_type": "code",
   "execution_count": 8,
   "id": "fda03eb8",
   "metadata": {},
   "outputs": [],
   "source": [
    "#checkpoint4 (function)\n",
    "#question1\n",
    "def max_two(x,y):\n",
    " if x<y:\n",
    "    return y\n",
    " else:\n",
    "    return x\n",
    "    \n"
   ]
  },
  {
   "cell_type": "code",
   "execution_count": 9,
   "id": "b90c0700",
   "metadata": {},
   "outputs": [
    {
     "data": {
      "text/plain": [
       "4"
      ]
     },
     "execution_count": 9,
     "metadata": {},
     "output_type": "execute_result"
    }
   ],
   "source": [
    "max_two(4,3)"
   ]
  },
  {
   "cell_type": "code",
   "execution_count": 19,
   "id": "1405938d",
   "metadata": {},
   "outputs": [
    {
     "data": {
      "text/plain": [
       "(7, 1)"
      ]
     },
     "execution_count": 19,
     "metadata": {},
     "output_type": "execute_result"
    }
   ],
   "source": [
    "#question2\n",
    "def sub_add(x,y):\n",
    " a=x+y\n",
    " b=x-y\n",
    " return a,b\n",
    "sub_add (4,3)"
   ]
  },
  {
   "cell_type": "code",
   "execution_count": 23,
   "id": "d1e140b1",
   "metadata": {},
   "outputs": [],
   "source": [
    "#question 3\n",
    "#sums the elements of a list of integers\n",
    "def sum_list(T):\n",
    "    sum=0\n",
    "    for i in range (0,len(T)):\n",
    "        sum=sum+T[i]\n",
    "    return sum\n"
   ]
  },
  {
   "cell_type": "code",
   "execution_count": 24,
   "id": "5e2c0f32",
   "metadata": {},
   "outputs": [
    {
     "data": {
      "text/plain": [
       "21"
      ]
     },
     "execution_count": 24,
     "metadata": {},
     "output_type": "execute_result"
    }
   ],
   "source": [
    "sum_list([1,7,1,8,4])"
   ]
  },
  {
   "cell_type": "code",
   "execution_count": 25,
   "id": "f9bbf34c",
   "metadata": {},
   "outputs": [],
   "source": [
    "#multiplies the elements of an integer list.\n",
    "def mult_list(T):\n",
    "    prod=1\n",
    "    for i in range (0,len(T)):\n",
    "        prod=prod*T[i]\n",
    "    return prod"
   ]
  },
  {
   "cell_type": "code",
   "execution_count": 27,
   "id": "b9ba8271",
   "metadata": {},
   "outputs": [
    {
     "data": {
      "text/plain": [
       "224"
      ]
     },
     "execution_count": 27,
     "metadata": {},
     "output_type": "execute_result"
    }
   ],
   "source": [
    "mult_list([1,7,1,8,4])"
   ]
  },
  {
   "cell_type": "code",
   "execution_count": 28,
   "id": "3119f0f1",
   "metadata": {},
   "outputs": [
    {
     "data": {
      "text/plain": [
       "[1, 7, 1, 8, 4]"
      ]
     },
     "execution_count": 28,
     "metadata": {},
     "output_type": "execute_result"
    }
   ],
   "source": [
    "T1=[1,7,1,8,4]"
   ]
  },
  {
   "cell_type": "code",
   "execution_count": 31,
   "id": "2f632f47",
   "metadata": {},
   "outputs": [],
   "source": [
    "# sum the elements whose position is an even number (0,2,4…) and multiply the rest\n",
    "def add_mult(T):\n",
    " sum=0\n",
    " produ=1\n",
    " for i in range (0,len(T)):\n",
    "    if i%2==0:\n",
    "        sum=sum+T[i]\n",
    "    else:\n",
    "        produ=produ*T[i]\n",
    " return sum,produ\n",
    "    "
   ]
  },
  {
   "cell_type": "code",
   "execution_count": 32,
   "id": "649e2f34",
   "metadata": {},
   "outputs": [
    {
     "data": {
      "text/plain": [
       "(6, 56)"
      ]
     },
     "execution_count": 32,
     "metadata": {},
     "output_type": "execute_result"
    }
   ],
   "source": [
    "add_mult([1,7,1,8,4])"
   ]
  },
  {
   "cell_type": "code",
   "execution_count": 33,
   "id": "825e6d91",
   "metadata": {},
   "outputs": [],
   "source": [
    "# another solution with using the two function sum and mult\n",
    "def addd_mult(T):\n",
    "    T1=list()\n",
    "    T2=list()\n",
    "    for i in range(0,len(T)):\n",
    "        if i%2==0:\n",
    "            T1.append(T[i])\n",
    "        else:\n",
    "            T2.append (T[i])\n",
    "    print(\"the sum of numbers which have an even index :=\"  ,sum_list(T1))\n",
    "    print (\"the produc of numbers which have an odd index := \", mult_list(T2))"
   ]
  },
  {
   "cell_type": "code",
   "execution_count": 34,
   "id": "5d79a2d2",
   "metadata": {},
   "outputs": [
    {
     "name": "stdout",
     "output_type": "stream",
     "text": [
      "the sum of numbers which have an even index := 6\n",
      "the produc of numbers which have an odd index :=  56\n"
     ]
    }
   ],
   "source": [
    "addd_mult([1,7,1,8,4])"
   ]
  },
  {
   "cell_type": "code",
   "execution_count": null,
   "id": "ff228e10",
   "metadata": {},
   "outputs": [],
   "source": []
  }
 ],
 "metadata": {
  "kernelspec": {
   "display_name": "Python 3 (ipykernel)",
   "language": "python",
   "name": "python3"
  },
  "language_info": {
   "codemirror_mode": {
    "name": "ipython",
    "version": 3
   },
   "file_extension": ".py",
   "mimetype": "text/x-python",
   "name": "python",
   "nbconvert_exporter": "python",
   "pygments_lexer": "ipython3",
   "version": "3.9.12"
  }
 },
 "nbformat": 4,
 "nbformat_minor": 5
}
