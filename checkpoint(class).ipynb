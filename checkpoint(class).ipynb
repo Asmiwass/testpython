{
 "cells": [
  {
   "cell_type": "code",
   "execution_count": 12,
   "id": "c15951e4",
   "metadata": {},
   "outputs": [
    {
     "name": "stdout",
     "output_type": "stream",
     "text": [
      "<__main__.Point3D object at 0x00000225A16507F0>\n"
     ]
    }
   ],
   "source": [
    "#question1\n",
    "class Point3D(object):\n",
    "    def __init__(self, x, y, z):\n",
    "        self.x = x\n",
    "        self.y = y\n",
    "        self.z = z\n",
    "    def retour (self):\n",
    "     return self.x,self.y,self.z\n",
    "        \n",
    "my_point = Point3D(1,2,3)\n",
    "\n",
    "print (my_point)"
   ]
  },
  {
   "cell_type": "code",
   "execution_count": 13,
   "id": "9e67e5f2",
   "metadata": {},
   "outputs": [
    {
     "name": "stdout",
     "output_type": "stream",
     "text": [
      "<__main__.Rectangle object at 0x00000225A28284F0>\n"
     ]
    }
   ],
   "source": [
    "#question2\n",
    "class Rectangle():\n",
    "    def __init__(self, l, w):\n",
    "        self.length = l\n",
    "        self.width  = w\n",
    "    def rectangle_area(self):\n",
    "        return self.length*self.width\n",
    "    def rectangle_perimeter(self):\n",
    "        return ((self.length+self.width)*2)\n",
    "\n",
    "newRectangle = Rectangle(12, 10)\n",
    "print(newRectangle)"
   ]
  },
  {
   "cell_type": "code",
   "execution_count": 15,
   "id": "d5cd4521",
   "metadata": {},
   "outputs": [
    {
     "name": "stdout",
     "output_type": "stream",
     "text": [
      "<__main__.circle object at 0x00000225A27CFDF0>\n"
     ]
    }
   ],
   "source": [
    "#QUESTION3\n",
    "import math \n",
    "class circle():\n",
    "    def __init__(self,o,r):\n",
    "        self.center=o\n",
    "        self.radius=r\n",
    "    def circle_area(self):\n",
    "     return (((self.radius)**2)*math.pi)\n",
    "    def circle_perimeter (self):\n",
    "     return (2*(math.pi)*(self.radius))\n",
    "newcircle=circle(1,4)\n",
    "print (newcircle )"
   ]
  },
  {
   "cell_type": "code",
   "execution_count": null,
   "id": "2d92b4a0",
   "metadata": {},
   "outputs": [],
   "source": []
  }
 ],
 "metadata": {
  "kernelspec": {
   "display_name": "Python 3 (ipykernel)",
   "language": "python",
   "name": "python3"
  },
  "language_info": {
   "codemirror_mode": {
    "name": "ipython",
    "version": 3
   },
   "file_extension": ".py",
   "mimetype": "text/x-python",
   "name": "python",
   "nbconvert_exporter": "python",
   "pygments_lexer": "ipython3",
   "version": "3.9.12"
  }
 },
 "nbformat": 4,
 "nbformat_minor": 5
}
