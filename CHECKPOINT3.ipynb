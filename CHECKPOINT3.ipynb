{
 "cells": [
  {
   "cell_type": "code",
   "execution_count": 1,
   "id": "9511efe8",
   "metadata": {},
   "outputs": [
    {
     "name": "stdout",
     "output_type": "stream",
     "text": [
      "give the length of your list : =\n"
     ]
    },
    {
     "ename": "ValueError",
     "evalue": "invalid literal for int() with base 10: ''",
     "output_type": "error",
     "traceback": [
      "\u001b[1;31m---------------------------------------------------------------------------\u001b[0m",
      "\u001b[1;31mValueError\u001b[0m                                Traceback (most recent call last)",
      "Input \u001b[1;32mIn [1]\u001b[0m, in \u001b[0;36m<cell line: 2>\u001b[1;34m()\u001b[0m\n\u001b[0;32m      1\u001b[0m \u001b[38;5;66;03m#Question 1 \u001b[39;00m\n\u001b[1;32m----> 2\u001b[0m n\u001b[38;5;241m=\u001b[39m\u001b[38;5;28;43mint\u001b[39;49m\u001b[43m(\u001b[49m\u001b[38;5;28;43minput\u001b[39;49m\u001b[43m(\u001b[49m\u001b[38;5;124;43m\"\u001b[39;49m\u001b[38;5;124;43mgive the length of your list : =\u001b[39;49m\u001b[38;5;124;43m\"\u001b[39;49m\u001b[43m)\u001b[49m\u001b[43m)\u001b[49m\n\u001b[0;32m      3\u001b[0m T\u001b[38;5;241m=\u001b[39m\u001b[38;5;28mlist\u001b[39m()\n\u001b[0;32m      4\u001b[0m \u001b[38;5;28;01mfor\u001b[39;00m i \u001b[38;5;129;01min\u001b[39;00m \u001b[38;5;28mrange\u001b[39m (\u001b[38;5;241m0\u001b[39m,n):\n",
      "\u001b[1;31mValueError\u001b[0m: invalid literal for int() with base 10: ''"
     ]
    }
   ],
   "source": [
    "#Question 1 \n",
    "n=int(input(\"give the length of your list : =\"))\n",
    "T=list()\n",
    "for i in range (0,n):\n",
    "    print (\"T[\",i,\"]:=\")\n",
    "    element= int((input()))\n",
    "    T.append(element)\n",
    "s=1\n",
    "for j in T:\n",
    "    s=s*j\n",
    "print (s)"
   ]
  },
  {
   "cell_type": "code",
   "execution_count": 2,
   "id": "01e7decd",
   "metadata": {},
   "outputs": [
    {
     "name": "stdout",
     "output_type": "stream",
     "text": [
      "give the length of your list : =2\n",
      "T[ 0 ]:=\n",
      "11\n",
      "T[ 1 ]:=\n",
      "22\n",
      "242\n"
     ]
    }
   ],
   "source": [
    "#Question 1 \n",
    "n=int(input(\"give the length of your list : =\"))\n",
    "T=list()\n",
    "for i in range (0,n):\n",
    "    print (\"T[\",i,\"]:=\")\n",
    "    element= int((input()))\n",
    "    T.append(element)\n",
    "s=1\n",
    "for j in T:\n",
    "    s=s*j\n",
    "print (s)"
   ]
  },
  {
   "cell_type": "code",
   "execution_count": 4,
   "id": "5831c321",
   "metadata": {},
   "outputs": [
    {
     "name": "stdout",
     "output_type": "stream",
     "text": [
      "give the length of your list : =wassim\n"
     ]
    },
    {
     "ename": "ValueError",
     "evalue": "invalid literal for int() with base 10: 'wassim'",
     "output_type": "error",
     "traceback": [
      "\u001b[1;31m---------------------------------------------------------------------------\u001b[0m",
      "\u001b[1;31mValueError\u001b[0m                                Traceback (most recent call last)",
      "Input \u001b[1;32mIn [4]\u001b[0m, in \u001b[0;36m<cell line: 3>\u001b[1;34m()\u001b[0m\n\u001b[0;32m      1\u001b[0m \u001b[38;5;66;03m#QUESTION2\u001b[39;00m\n\u001b[0;32m      2\u001b[0m \u001b[38;5;66;03m#Question 1 \u001b[39;00m\n\u001b[1;32m----> 3\u001b[0m n\u001b[38;5;241m=\u001b[39m\u001b[38;5;28;43mint\u001b[39;49m\u001b[43m(\u001b[49m\u001b[38;5;28;43minput\u001b[39;49m\u001b[43m(\u001b[49m\u001b[38;5;124;43m\"\u001b[39;49m\u001b[38;5;124;43mgive the length of your list : =\u001b[39;49m\u001b[38;5;124;43m\"\u001b[39;49m\u001b[43m)\u001b[49m\u001b[43m)\u001b[49m\n\u001b[0;32m      4\u001b[0m T\u001b[38;5;241m=\u001b[39m\u001b[38;5;28mlist\u001b[39m()\n\u001b[0;32m      5\u001b[0m \u001b[38;5;28;01mfor\u001b[39;00m i \u001b[38;5;129;01min\u001b[39;00m \u001b[38;5;28mrange\u001b[39m (\u001b[38;5;241m0\u001b[39m,n):\n",
      "\u001b[1;31mValueError\u001b[0m: invalid literal for int() with base 10: 'wassim'"
     ]
    }
   ],
   "source": [
    "#QUESTION2\n",
    "#Question 1 \n",
    "n=int(input(\"give the length of your list : =\"))\n",
    "T=list()\n",
    "for i in range (0,n):\n",
    "    print (\"T[\",i,\"]:=\")\n",
    "    element= str((input()))\n",
    "    T.append(element)\n",
    "    T=T[::-1]\n"
   ]
  },
  {
   "cell_type": "code",
   "execution_count": null,
   "id": "b4f7569d",
   "metadata": {},
   "outputs": [],
   "source": []
  },
  {
   "cell_type": "code",
   "execution_count": 6,
   "id": "8aa26c86",
   "metadata": {},
   "outputs": [
    {
     "name": "stdout",
     "output_type": "stream",
     "text": [
      "give the length of your list : =2\n",
      "T[ 0 ]:=\n",
      "WASSIM\n",
      "T[ 1 ]:=\n",
      "ASMI\n",
      "['ASMI', 'WASSIM']\n"
     ]
    }
   ],
   "source": [
    "#QUESTION2\n",
    "#Question 1 \n",
    "n=int(input(\"give the length of your list : =\"))\n",
    "T=list()\n",
    "for i in range (0,n):\n",
    "    print (\"T[\",i,\"]:=\")\n",
    "    element= str((input()))\n",
    "    T.append(element)\n",
    "    T=T[::-1]\n",
    "print (T)\n"
   ]
  },
  {
   "cell_type": "code",
   "execution_count": 7,
   "id": "73d47b74",
   "metadata": {},
   "outputs": [
    {
     "name": "stdout",
     "output_type": "stream",
     "text": [
      "give the length of your list : =5\n",
      "T[ 0 ]:=\n",
      "(2,3)\n",
      "T[ 1 ]:=\n",
      "(4,3)\n",
      "T[ 2 ]:=\n",
      "(2,2)\n",
      "T[ 3 ]:=\n",
      "(1,1)\n",
      "T[ 4 ]:=\n",
      "(7,9)\n",
      "['(7,9)', '(2,2)', '(2,3)', '(4,3)', '(1,1)']\n"
     ]
    }
   ],
   "source": [
    "#QUESTION2\n",
    "#Question 1 \n",
    "n=int(input(\"give the length of your list : =\"))\n",
    "T=list()\n",
    "for i in range (0,n):\n",
    "    print (\"T[\",i,\"]:=\")\n",
    "    element= str((input()))\n",
    "    T.append(element)\n",
    "    T=T[::-1]\n",
    "print (T)"
   ]
  },
  {
   "cell_type": "code",
   "execution_count": null,
   "id": "c8a2554b",
   "metadata": {},
   "outputs": [],
   "source": [
    "#question2 using method of function\n",
    "def reverse_lis(list1):\n",
    " n=int(input(\"give the length of your list : =\"))\n",
    " T=list()\n",
    " for i in range (0,n):\n",
    "    print (\"T[\",i,\"]:=\")\n",
    "    element= str((input()))\n",
    "    T.append(element)\n",
    "    T=T[::-1]\n",
    "return T\n",
    "    "
   ]
  },
  {
   "cell_type": "code",
   "execution_count": null,
   "id": "dfc49c9a",
   "metadata": {},
   "outputs": [],
   "source": []
  },
  {
   "cell_type": "code",
   "execution_count": null,
   "id": "ae2f2b28",
   "metadata": {},
   "outputs": [],
   "source": [
    "#question2 using method of function\n",
    "def reverse_lis(T):\n",
    " return T[::-1]"
   ]
  },
  {
   "cell_type": "code",
   "execution_count": null,
   "id": "e8e8d4a4",
   "metadata": {},
   "outputs": [],
   "source": [
    "t1=reverse_lis(T)\n",
    "print (t1)"
   ]
  },
  {
   "cell_type": "code",
   "execution_count": 2,
   "id": "3c7c4fd5",
   "metadata": {},
   "outputs": [
    {
     "name": "stdout",
     "output_type": "stream",
     "text": [
      "['asmi', 'wassim']\n",
      "['asmi', 'wassim']\n"
     ]
    }
   ],
   "source": [
    "def reverse_lis(T):\n",
    "    return T[::-1]\n",
    "reverse_lis([\"wassim\",\"asmi\"])\n",
    "T=[\"wassim\",\"asmi\"]\n",
    "t1=reverse_lis(T)\n",
    "print (t1)\n",
    "T=[\"wassim\",\"asmi\"]\n",
    "t1=reverse_lis(T)\n",
    "print (t1)"
   ]
  },
  {
   "cell_type": "code",
   "execution_count": 5,
   "id": "a8857f2c",
   "metadata": {},
   "outputs": [
    {
     "name": "stdout",
     "output_type": "stream",
     "text": [
      "give a number : 2\n",
      "{0: 1, 2: 4}\n"
     ]
    }
   ],
   "source": [
    "#QUESTION4\n",
    "n=int(input(\"give a number : \"))\n",
    "my_dictionary={}\n",
    "for i in range (n+1):\n",
    "    if i%2==0:\n",
    "        my_dictionary[i]=i**i\n",
    "print (my_dictionary)"
   ]
  },
  {
   "cell_type": "code",
   "execution_count": 7,
   "id": "bd638ad7",
   "metadata": {},
   "outputs": [
    {
     "ename": "IndentationError",
     "evalue": "unindent does not match any outer indentation level (<tokenize>, line 6)",
     "output_type": "error",
     "traceback": [
      "\u001b[1;36m  File \u001b[1;32m<tokenize>:6\u001b[1;36m\u001b[0m\n\u001b[1;33m    element= tuple((input()))\u001b[0m\n\u001b[1;37m    ^\u001b[0m\n\u001b[1;31mIndentationError\u001b[0m\u001b[1;31m:\u001b[0m unindent does not match any outer indentation level\n"
     ]
    }
   ],
   "source": [
    "#QUESTION5\n",
    "n=int(input(\"give the length of your list : \"))\n",
    "T=list()\n",
    "for i in range (n+1):\n",
    "     print (\"T[\",i,\"]:=\")\n",
    "    element= tuple((input()))\n",
    "    T.append(element)\n",
    "print (T)\n",
    "    \n"
   ]
  },
  {
   "cell_type": "code",
   "execution_count": null,
   "id": "4973458d",
   "metadata": {},
   "outputs": [],
   "source": []
  },
  {
   "cell_type": "code",
   "execution_count": null,
   "id": "01acabef",
   "metadata": {},
   "outputs": [],
   "source": []
  },
  {
   "cell_type": "code",
   "execution_count": null,
   "id": "4f410065",
   "metadata": {},
   "outputs": [],
   "source": []
  },
  {
   "cell_type": "code",
   "execution_count": 8,
   "id": "370c8c6d",
   "metadata": {},
   "outputs": [
    {
     "name": "stdout",
     "output_type": "stream",
     "text": [
      "give the length of your list : =2\n",
      "T[ 0 ]:=\n",
      "WAS\n",
      "T[ 1 ]:=\n",
      "WAZ\n",
      "[('W', 'A', 'Z'), ('W', 'A', 'S')]\n"
     ]
    }
   ],
   "source": [
    "#QUESTION2\n",
    "#Question 1 \n",
    "n=int(input(\"give the length of your list : =\"))\n",
    "T=list()\n",
    "for i in range (0,n):\n",
    "    print (\"T[\",i,\"]:=\")\n",
    "    element= tuple((input()))\n",
    "    T.append(element)\n",
    "    T=T[::-1]\n",
    "print (T)"
   ]
  },
  {
   "cell_type": "code",
   "execution_count": 12,
   "id": "c39d9417",
   "metadata": {},
   "outputs": [
    {
     "ename": "SyntaxError",
     "evalue": "invalid syntax (3418996734.py, line 6)",
     "output_type": "error",
     "traceback": [
      "\u001b[1;36m  Input \u001b[1;32mIn [12]\u001b[1;36m\u001b[0m\n\u001b[1;33m    else\u001b[0m\n\u001b[1;37m        ^\u001b[0m\n\u001b[1;31mSyntaxError\u001b[0m\u001b[1;31m:\u001b[0m invalid syntax\n"
     ]
    }
   ],
   "source": [
    "T=tuple ()\n",
    "for i in range (6):\n",
    " print (\"T[\",i,\"]:=\")\n",
    " if i %2==0:\n",
    "  T[i]=str(input())\n",
    " else\n",
    "  T[i]=float((input))\n",
    "print (T)"
   ]
  },
  {
   "cell_type": "code",
   "execution_count": 22,
   "id": "ae96c97f",
   "metadata": {},
   "outputs": [
    {
     "name": "stdout",
     "output_type": "stream",
     "text": [
      "22\n",
      "22\n",
      "22\n",
      "2\n",
      "{1: 22, 3: 22}\n",
      "{3: 2}\n"
     ]
    },
    {
     "ename": "NameError",
     "evalue": "name 'Merge' is not defined",
     "output_type": "error",
     "traceback": [
      "\u001b[1;31m---------------------------------------------------------------------------\u001b[0m",
      "\u001b[1;31mNameError\u001b[0m                                 Traceback (most recent call last)",
      "Input \u001b[1;32mIn [22]\u001b[0m, in \u001b[0;36m<cell line: 10>\u001b[1;34m()\u001b[0m\n\u001b[0;32m      8\u001b[0m \u001b[38;5;28mprint\u001b[39m (my_dictionary)\n\u001b[0;32m      9\u001b[0m \u001b[38;5;28mprint\u001b[39m (my_dictionary2)\n\u001b[1;32m---> 10\u001b[0m \u001b[38;5;28mprint\u001b[39m (\u001b[43mMerge\u001b[49m(my_dictionary\u001b[38;5;241m+\u001b[39mmy_dictionary2))\n",
      "\u001b[1;31mNameError\u001b[0m: name 'Merge' is not defined"
     ]
    }
   ],
   "source": [
    "my_dictionary={}\n",
    "my_dictionary2={}\n",
    "for i in range (1,5):\n",
    "    for j in range (1,5):\n",
    "     if i%2 and j%3==0:\n",
    "        my_dictionary[i]=int(input())\n",
    "        my_dictionary2[j]=int (input())\n",
    "print (my_dictionary)\n",
    "print (my_dictionary2)\n",
    "print (Merge(my_dictionary+my_dictionary2))"
   ]
  },
  {
   "cell_type": "markdown",
   "id": "62062086",
   "metadata": {},
   "source": []
  }
 ],
 "metadata": {
  "kernelspec": {
   "display_name": "Python 3 (ipykernel)",
   "language": "python",
   "name": "python3"
  },
  "language_info": {
   "codemirror_mode": {
    "name": "ipython",
    "version": 3
   },
   "file_extension": ".py",
   "mimetype": "text/x-python",
   "name": "python",
   "nbconvert_exporter": "python",
   "pygments_lexer": "ipython3",
   "version": "3.9.12"
  }
 },
 "nbformat": 4,
 "nbformat_minor": 5
}
