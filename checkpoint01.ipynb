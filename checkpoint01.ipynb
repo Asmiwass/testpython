{
 "cells": [
  {
   "cell_type": "code",
   "execution_count": 2,
   "id": "ea9da93f",
   "metadata": {},
   "outputs": [
    {
     "name": "stdout",
     "output_type": "stream",
     "text": [
      "give your first name : wassim\n",
      "give your second name : asmi\n",
      "asmi wassim\n"
     ]
    }
   ],
   "source": [
    "#question1\n",
    "first_name=input (\"give your first name : \")\n",
    "second_name=input (\"give your second name : \")\n",
    "print (second_name+\" \"+first_name)"
   ]
  },
  {
   "cell_type": "code",
   "execution_count": 4,
   "id": "6342f22c",
   "metadata": {},
   "outputs": [
    {
     "name": "stdout",
     "output_type": "stream",
     "text": [
      "give a number := 5\n",
      "615\n"
     ]
    }
   ],
   "source": [
    "#question 2\n",
    "x=int(input(\"give a number := \"))\n",
    "y=(x*10)+x\n",
    "z=(x*100)+y\n",
    "print (x+y+z)\n"
   ]
  },
  {
   "cell_type": "code",
   "execution_count": 24,
   "id": "788e9a87",
   "metadata": {},
   "outputs": [
    {
     "ename": "SyntaxError",
     "evalue": "invalid syntax (1066044211.py, line 3)",
     "output_type": "error",
     "traceback": [
      "\u001b[1;36m  Input \u001b[1;32mIn [24]\u001b[1;36m\u001b[0m\n\u001b[1;33m    if x%2==0 :\u001b[0m\n\u001b[1;37m              ^\u001b[0m\n\u001b[1;31mSyntaxError\u001b[0m\u001b[1;31m:\u001b[0m invalid syntax\n"
     ]
    }
   ],
   "source": [
    "#question3\n",
    "x=int(input((\"give a number = \"))\n",
    "if x%2==0 :\n",
    "   print(x,\"is an even number \")\n",
    "else:\n",
    "   print (x,\"is an odd number \")\n",
    "    "
   ]
  },
  {
   "cell_type": "code",
   "execution_count": null,
   "id": "6b64dfaa",
   "metadata": {},
   "outputs": [],
   "source": [
    "#question4\n",
    "for i in range (2000,3200,1):\n",
    " if (i%7==0) and not(5%==0) :\n",
    "   print (i,end=\" \")\n"
   ]
  },
  {
   "cell_type": "code",
   "execution_count": null,
   "id": "e868b143",
   "metadata": {},
   "outputs": [],
   "source": [
    "#question 5\n",
    "x=int(input(\"Donnez un entier positif  \"))\n",
    "if x%2==0 :  \n",
    "  print(x,\"l'entier est pair \") \n",
    "else:  \n",
    "  print(x,\"l'entier est impair \")"
   ]
  },
  {
   "cell_type": "code",
   "execution_count": 25,
   "id": "e1580a47",
   "metadata": {},
   "outputs": [
    {
     "name": "stdout",
     "output_type": "stream",
     "text": [
      "give an integer : 5\n",
      "5 !=\n",
      "120\n"
     ]
    }
   ],
   "source": [
    "#question 7\n",
    "n=int(input(\"give an integer : \"))\n",
    "p=1\n",
    "print (n,\"!=\")\n",
    "for i in range (1,n+1):\n",
    "    p=p*i\n",
    "print (p)\n",
    "    "
   ]
  },
  {
   "cell_type": "code",
   "execution_count": 34,
   "id": "083de038",
   "metadata": {},
   "outputs": [
    {
     "name": "stdout",
     "output_type": "stream",
     "text": [
      "give your first name : asmi\n",
      "give your second name : wassim\n",
      "imsa missaw\n"
     ]
    }
   ],
   "source": [
    "#QUESTION1\n",
    "first_name=input (\"give your first name : \")\n",
    "second_name=input (\"give your second name : \")\n",
    "len1=len(first_name)\n",
    "len2=len(second_name)\n",
    "str1=first_name [::-1]\n",
    "str2=second_name[::-1]\n",
    "print (str1+\" \"+str2)\n",
    "    \n"
   ]
  },
  {
   "cell_type": "code",
   "execution_count": null,
   "id": "30ca91cf",
   "metadata": {},
   "outputs": [],
   "source": [
    "#question4\n",
    "for i in range (2000,3200):\n",
    " if (i%7==0) and not(5%==0) :\n",
    "   print (i,end=\" \")"
   ]
  },
  {
   "cell_type": "code",
   "execution_count": null,
   "id": "f4baaa5c",
   "metadata": {},
   "outputs": [],
   "source": []
  },
  {
   "cell_type": "code",
   "execution_count": null,
   "id": "2cd5a9d6",
   "metadata": {},
   "outputs": [],
   "source": []
  }
 ],
 "metadata": {
  "kernelspec": {
   "display_name": "Python 3 (ipykernel)",
   "language": "python",
   "name": "python3"
  },
  "language_info": {
   "codemirror_mode": {
    "name": "ipython",
    "version": 3
   },
   "file_extension": ".py",
   "mimetype": "text/x-python",
   "name": "python",
   "nbconvert_exporter": "python",
   "pygments_lexer": "ipython3",
   "version": "3.9.12"
  }
 },
 "nbformat": 4,
 "nbformat_minor": 5
}
